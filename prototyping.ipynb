{
 "cells": [
  {
   "cell_type": "markdown",
   "id": "eafe0df9-4de5-42aa-8aa2-463dbd9a8dff",
   "metadata": {},
   "source": [
    "# Prototyping\n",
    "\n",
    "This notebook exists for the sake of prototyping, we should eventually incorporate the final code into either (A) Labview or (B) a standalone web app which gets hosted on the electrical measurements computer. Either way, the final project will be in the form of .py files.\n",
    "\n",
    "See [Keithley 2450 Examples](https://github.com/microsoft/Qcodes/blob/main/docs/examples/driver_examples/Qcodes%20example%20with%20keithley%202450.ipynb), or consult the corresponding driver if you need to check all available functions:\n",
    "[Driver Source](https://github.com/microsoft/Qcodes/blob/main/src/qcodes/instrument_drivers/Keithley/Keithley_2450.py)\n",
    "\n",
    "Of course the docs also provide details for these things:\n",
    "[API Docs](https://microsoft.github.io/Qcodes/drivers_api/Keithley.html#qcodes.instrument_drivers.Keithley.Keithley2450)"
   ]
  },
  {
   "cell_type": "code",
   "execution_count": 1,
   "id": "7f12ffc3-e9db-4784-a600-b7e86eed41d2",
   "metadata": {},
   "outputs": [],
   "source": [
    "from pyvisa import VisaIOError\n",
    "\n",
    "from qcodes.dataset import (\n",
    "    Measurement,\n",
    "    initialise_database,\n",
    "    new_experiment,\n",
    "    plot_dataset,\n",
    "    initialise_or_create_database_at,\n",
    ")\n",
    "from qcodes.instrument_drivers.Keithley import Keithley2450"
   ]
  },
  {
   "cell_type": "code",
   "execution_count": 2,
   "id": "99aad8bb-4be7-4cd6-8963-dd5e83100cda",
   "metadata": {},
   "outputs": [
    {
     "name": "stdout",
     "output_type": "stream",
     "text": [
      "Connected to: QCoDeS correct mode (serial:model, firmware:v0.01) in 0.06s\n"
     ]
    }
   ],
   "source": [
    "# Using a simulated keithley\n",
    "# I have not tested this with our keithley yet, but it should be fine just drop the sim file\n",
    "keithley = Keithley2450(\"Keithley\", \"GPIB::2::INSTR\", pyvisa_sim_file=\"Keithley_2450.yaml\")  # Initialize the instrument"
   ]
  },
  {
   "cell_type": "code",
   "execution_count": 3,
   "id": "451b3573-27ef-48b1-85e4-eb9b0c44cbca",
   "metadata": {},
   "outputs": [],
   "source": [
    "keithley.reset()  # It is good practice to reset the keithley before messing with it"
   ]
  },
  {
   "cell_type": "code",
   "execution_count": 4,
   "id": "78d00d52-ab8b-48cd-8c97-a7cbe2af4e64",
   "metadata": {},
   "outputs": [
    {
     "name": "stderr",
     "output_type": "stream",
     "text": [
      "[Keithley_source(Keithley2450Source)] Snapshot: Could not update parameter: range\n",
      "[Keithley_source(Keithley2450Source)] Snapshot: Could not update parameter: auto_range\n",
      "[Keithley_source(Keithley2450Source)] Snapshot: Could not update parameter: limit\n",
      "[Keithley_source(Keithley2450Source)] Snapshot: Could not update parameter: limit_tripped\n",
      "[Keithley_source(Keithley2450Source)] Snapshot: Could not update parameter: sweep_axis\n",
      "[Keithley_source(Keithley2450Source)] Snapshot: Could not update parameter: user_delay\n",
      "[Keithley_source(Keithley2450Source)] Snapshot: Could not update parameter: auto_delay\n",
      "[Keithley_source(Keithley2450Source)] Snapshot: Could not update parameter: read_back_enabled\n",
      "[Keithley_source(Keithley2450Source)] Snapshot: Could not update parameter: range\n",
      "[Keithley_source(Keithley2450Source)] Snapshot: Could not update parameter: auto_range\n",
      "[Keithley_source(Keithley2450Source)] Snapshot: Could not update parameter: limit\n",
      "[Keithley_source(Keithley2450Source)] Snapshot: Could not update parameter: limit_tripped\n",
      "[Keithley_source(Keithley2450Source)] Snapshot: Could not update parameter: sweep_axis\n",
      "[Keithley_source(Keithley2450Source)] Snapshot: Could not update parameter: user_delay\n",
      "[Keithley_source(Keithley2450Source)] Snapshot: Could not update parameter: auto_delay\n",
      "[Keithley_source(Keithley2450Source)] Snapshot: Could not update parameter: read_back_enabled\n",
      "[Keithley_sense(Keithley2450Sense)] Snapshot: Could not update parameter: four_wire_measurement\n",
      "[Keithley_sense(Keithley2450Sense)] Snapshot: Could not update parameter: range\n",
      "[Keithley_sense(Keithley2450Sense)] Snapshot: Could not update parameter: auto_range\n",
      "[Keithley_sense(Keithley2450Sense)] Snapshot: Could not update parameter: user_delay\n",
      "[Keithley_sense(Keithley2450Sense)] Snapshot: Could not update parameter: auto_zero_enabled\n",
      "[Keithley_sense(Keithley2450Sense)] Snapshot: Could not update parameter: four_wire_measurement\n",
      "[Keithley_sense(Keithley2450Sense)] Snapshot: Could not update parameter: range\n",
      "[Keithley_sense(Keithley2450Sense)] Snapshot: Could not update parameter: auto_range\n",
      "[Keithley_sense(Keithley2450Sense)] Snapshot: Could not update parameter: user_delay\n",
      "[Keithley_sense(Keithley2450Sense)] Snapshot: Could not update parameter: auto_zero_enabled\n",
      "[Keithley_sense(Keithley2450Sense)] Snapshot: Could not update parameter: four_wire_measurement\n",
      "[Keithley_sense(Keithley2450Sense)] Snapshot: Could not update parameter: range\n",
      "[Keithley_sense(Keithley2450Sense)] Snapshot: Could not update parameter: auto_range\n",
      "[Keithley_sense(Keithley2450Sense)] Snapshot: Could not update parameter: user_delay\n",
      "[Keithley_sense(Keithley2450Sense)] Snapshot: Could not update parameter: auto_zero_enabled\n",
      "[Keithley_defbuffer1(Keithley2450Buffer)] Snapshot: Could not update parameter: size\n",
      "[Keithley_defbuffer1(Keithley2450Buffer)] Snapshot: Could not update parameter: number_of_readings\n",
      "[Keithley(Keithley2450)] Snapshot: Could not update parameter: source_function\n",
      "[Keithley(Keithley2450)] Snapshot: Could not update parameter: sense_function\n",
      "[Keithley(Keithley2450)] Snapshot: Could not update parameter: output_enabled\n"
     ]
    },
    {
     "data": {
      "text/plain": [
       "'Keithley'"
      ]
     },
     "execution_count": 4,
     "metadata": {},
     "output_type": "execute_result"
    }
   ],
   "source": [
    "import qcodes as qc\n",
    "\n",
    "station = qc.Station()\n",
    "station.add_component(keithley)\n",
    "\n",
    "# This expectedly throws snapshot failures as simulated devices are just state machines and therefore cannot be updated normally"
   ]
  },
  {
   "cell_type": "code",
   "execution_count": 6,
   "id": "20326e21-3c7d-40c9-84ed-367329da162e",
   "metadata": {},
   "outputs": [
    {
     "data": {
      "text/plain": [
       "'~/prototype_experiment.db'"
      ]
     },
     "execution_count": 6,
     "metadata": {},
     "output_type": "execute_result"
    }
   ],
   "source": [
    "initialise_or_create_database_at(\"~/prototype_experiment.db\")\n",
    "qc.config.core.db_location  # returns the location of the db"
   ]
  },
  {
   "cell_type": "markdown",
   "id": "f331ef4d-fdc4-419c-8267-874d03b0f940",
   "metadata": {},
   "source": [
    "From here we can do anything we'd like with our instruments. Again consult the above sources for documentation."
   ]
  }
 ],
 "metadata": {
  "kernelspec": {
   "display_name": "Python3 (qcodes)",
   "language": "python",
   "name": "condaenv"
  },
  "language_info": {
   "codemirror_mode": {
    "name": "ipython",
    "version": 3
   },
   "file_extension": ".py",
   "mimetype": "text/x-python",
   "name": "python",
   "nbconvert_exporter": "python",
   "pygments_lexer": "ipython3",
   "version": "3.12.4"
  }
 },
 "nbformat": 4,
 "nbformat_minor": 5
}
