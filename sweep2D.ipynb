{
 "cells": [
  {
   "cell_type": "markdown",
   "id": "137d362b-0601-4753-ab02-b3ecf7c16bb9",
   "metadata": {},
   "source": []
  },
  {
   "cell_type": "code",
   "execution_count": 1,
   "id": "ef1476d8-fc0c-4b2a-95cf-bf28266323c7",
   "metadata": {
    "editable": true,
    "slideshow": {
     "slide_type": ""
    },
    "tags": []
   },
   "outputs": [],
   "source": [
    "def _do_imports():\n",
    "    \"\"\"Imports necessary modules to perform a 1D sweep.\n",
    "\n",
    "    This method checks if the modules are already imported; if not, it imports them.\n",
    "    \"\"\"\n",
    "    global VisaIOError, Measurement, initialise_database, new_experiment, plot_dataset, Keithley2450\n",
    "\n",
    "    try:\n",
    "        import pyvisa\n",
    "        from pyvisa import VisaIOError\n",
    "    except ImportError:\n",
    "        raise ImportError(\"pyvisa module is required but not installed.\")\n",
    "    \n",
    "    try:\n",
    "        from qcodes.dataset import (\n",
    "            Measurement,\n",
    "            initialise_database,\n",
    "            new_experiment,\n",
    "            plot_dataset,\n",
    "            initialise_or_create_database_at,\n",
    "        )\n",
    "    except ImportError:\n",
    "        raise ImportError(\"qcodes.dataset module is required but not installed.\")\n",
    "    \n",
    "    try:\n",
    "        from qcodes.instrument_drivers.Keithley import Keithley2450\n",
    "    except ImportError:\n",
    "        raise ImportError(\"qcodes.instrument_drivers.Keithley module is required but not installed.\")"
   ]
  },
  {
   "cell_type": "code",
   "execution_count": 2,
   "id": "8b62add3-498c-4e39-aee2-3c2fea443fb7",
   "metadata": {},
   "outputs": [],
   "source": [
    "def initialize_keithley(device_name: str, address: str, four_wire_mode: bool=False):\n",
    "    \"\"\"Initialize a keithley 2450 source measurement device.\n",
    "\n",
    "    We may consider extending this in the future to allow initilization with other properties.\n",
    "\n",
    "    Typical usage example:\n",
    "        keithley1 = initialize_keithley(device_name=\"Keithley1\", address=\"USB0::1510::9296::04584899::0::INSTR\")\n",
    "        keithley2 = initialize_keithley(device_name=\"Keithley2\", address=\"USB0::3029::1123::81123123::0::INSTR\", four_wire_mode=True)\n",
    "\n",
    "    Args:\n",
    "        device_name (str): Name which will appear in the experiment database\n",
    "        address (str): Device address as described in the keithley manual. The USB format is:\n",
    "            USB0::[vendor ID]::[model number]::[serial number]::INSTR\n",
    "        four_wire_mode (bool, optional):\n",
    "            \n",
    "    returns:\n",
    "        qcodes.instrument_drivers.Keithley.Keithley_2450.Keithley2450\n",
    "\n",
    "    \"\"\"\n",
    "    _do_imports()\n",
    "    keithley = Keithley2450(device_name, address)\n",
    "    keithley.reset()\n",
    "    keithley.sense.four_wire_measurement(four_wire_mode)\n",
    "    return keithley"
   ]
  },
  {
   "cell_type": "code",
   "execution_count": 3,
   "id": "cee02d5c-208a-4047-b9ce-47d3ca2b0043",
   "metadata": {},
   "outputs": [],
   "source": [
    "def initialize_experiment(database_name: str, sample_name: str=\"no sample\"):\n",
    "    \"\"\"Initialize an experiment (database and collection of runs)\n",
    "    \n",
    "    We need to add support for setting a unique path. Currently writes the database to the home path.\n",
    "\n",
    "    Typical usage example:\n",
    "        exp = initialize_experiment(\"Demo_Experiment\")\n",
    "\n",
    "    Args:\n",
    "        database_name (str): Name of the database file on disk.\n",
    "        sample_name (str, optional): Sample name which will appear in the experiment database. \n",
    "\n",
    "    Returns:\n",
    "        qcodes.dataset.experiment_container.Experiment\n",
    "\n",
    "    \"\"\"\n",
    "    _do_imports()\n",
    "    initialise_database()\n",
    "    experiment = new_experiment(name=database_name, sample_name=sample_name)\n",
    "    return experiment"
   ]
  },
  {
   "cell_type": "code",
   "execution_count": null,
   "id": "d4d8ac31-c6d7-4dcd-a44a-541d9bc2e2c3",
   "metadata": {},
   "outputs": [],
   "source": [
    "def Sweep2D(\n",
    "    inner_start: float \n",
    "):"
   ]
  }
 ],
 "metadata": {
  "kernelspec": {
   "display_name": "Python3 (qcodes)",
   "language": "python",
   "name": "condaenv"
  },
  "language_info": {
   "codemirror_mode": {
    "name": "ipython",
    "version": 3
   },
   "file_extension": ".py",
   "mimetype": "text/x-python",
   "name": "python",
   "nbconvert_exporter": "python",
   "pygments_lexer": "ipython3",
   "version": "3.12.4"
  }
 },
 "nbformat": 4,
 "nbformat_minor": 5
}
