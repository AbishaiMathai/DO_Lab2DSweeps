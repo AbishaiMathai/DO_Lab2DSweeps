{
 "cells": [
  {
   "cell_type": "markdown",
   "id": "eafe0df9-4de5-42aa-8aa2-463dbd9a8dff",
   "metadata": {},
   "source": [
    "# Prototyping\n",
    "\n",
    "This notebook exists for the sake of prototyping, we should eventually incorporate the final code into either (A) Labview or (B) a standalone web app which gets hosted on the electrical measurements computer. Either way, the final project will be in the form of .py files.\n",
    "\n",
    "See [Keithley 2450 Examples](https://github.com/microsoft/Qcodes/blob/main/docs/examples/driver_examples/Qcodes%20example%20with%20keithley%202450.ipynb), or consult the corresponding driver if you need to check all available functions:\n",
    "[Driver Source](https://github.com/microsoft/Qcodes/blob/main/src/qcodes/instrument_drivers/Keithley/Keithley_2450.py)\n",
    "\n",
    "Of course the docs also provide details for these things:\n",
    "[API Docs](https://microsoft.github.io/Qcodes/drivers_api/Keithley.html#qcodes.instrument_drivers.Keithley.Keithley2450)"
   ]
  },
  {
   "cell_type": "code",
   "execution_count": 1,
   "id": "b35779b7-a04d-4647-a746-02a5767fbb64",
   "metadata": {},
   "outputs": [
    {
     "data": {
      "text/plain": [
       "('USB0::0x05E6::0x2450::04584899::INSTR',\n",
       " 'ASRL1::INSTR',\n",
       " 'ASRL2::INSTR',\n",
       " 'ASRL3::INSTR',\n",
       " 'ASRL4::INSTR',\n",
       " 'ASRL5::INSTR',\n",
       " 'ASRL6::INSTR',\n",
       " 'ASRL7::INSTR',\n",
       " 'ASRL8::INSTR',\n",
       " 'ASRL9::INSTR',\n",
       " 'ASRL10::INSTR',\n",
       " 'ASRL11::INSTR',\n",
       " 'ASRL12::INSTR',\n",
       " 'ASRL13::INSTR',\n",
       " 'ASRL14::INSTR',\n",
       " 'ASRL15::INSTR',\n",
       " 'ASRL16::INSTR',\n",
       " 'ASRL17::INSTR',\n",
       " 'ASRL18::INSTR',\n",
       " 'ASRL19::INSTR',\n",
       " 'ASRL20::INSTR',\n",
       " 'ASRL21::INSTR',\n",
       " 'ASRL22::INSTR',\n",
       " 'ASRL23::INSTR',\n",
       " 'ASRL24::INSTR',\n",
       " 'ASRL25::INSTR',\n",
       " 'ASRL26::INSTR',\n",
       " 'ASRL27::INSTR',\n",
       " 'ASRL28::INSTR',\n",
       " 'ASRL29::INSTR',\n",
       " 'ASRL30::INSTR',\n",
       " 'ASRL31::INSTR',\n",
       " 'ASRL32::INSTR')"
      ]
     },
     "execution_count": 1,
     "metadata": {},
     "output_type": "execute_result"
    }
   ],
   "source": [
    "import pyvisa\n",
    "rm = pyvisa.ResourceManager()\n",
    "rm.list_resources()"
   ]
  },
  {
   "cell_type": "code",
   "execution_count": 2,
   "id": "7f12ffc3-e9db-4784-a600-b7e86eed41d2",
   "metadata": {},
   "outputs": [],
   "source": [
    "from pyvisa import VisaIOError\n",
    "\n",
    "from qcodes.dataset import (\n",
    "    Measurement,\n",
    "    initialise_database,\n",
    "    new_experiment,\n",
    "    plot_dataset,\n",
    "    initialise_or_create_database_at,\n",
    ")\n",
    "from qcodes.instrument_drivers.Keithley import Keithley2450"
   ]
  },
  {
   "cell_type": "code",
   "execution_count": 3,
   "id": "99aad8bb-4be7-4cd6-8963-dd5e83100cda",
   "metadata": {},
   "outputs": [
    {
     "name": "stdout",
     "output_type": "stream",
     "text": [
      "Connected to: KEITHLEY INSTRUMENTS 2450 (serial:04584899, firmware:1.7.12b) in 0.50s\n"
     ]
    }
   ],
   "source": [
    "keithley = Keithley2450(\"Keithley\", \"USB0::1510::9296::04584899::0::INSTR\")  # Initialize the instrument"
   ]
  },
  {
   "cell_type": "code",
   "execution_count": 4,
   "id": "52500fdd-cdb5-4c6b-afad-4064b4da38fc",
   "metadata": {},
   "outputs": [
    {
     "name": "stderr",
     "output_type": "stream",
     "text": [
      "There is (are) already experiment(s) with the name of Keithley_2450_example and sample name of no sample in the database.\n"
     ]
    }
   ],
   "source": [
    "initialise_database()\n",
    "experiment = new_experiment(name='Keithley_2450_example', sample_name=\"no sample\")"
   ]
  },
  {
   "cell_type": "code",
   "execution_count": 5,
   "id": "20326e21-3c7d-40c9-84ed-367329da162e",
   "metadata": {},
   "outputs": [],
   "source": [
    "keithley.sense.function(\"current\")\n",
    "keithley.sense.range(1E-5)\n",
    "\n",
    "keithley.source.function(\"voltage\")\n",
    "keithley.source.range(0.2)\n",
    "keithley.source.sweep_setup(0, 0.01, 10)"
   ]
  },
  {
   "cell_type": "code",
   "execution_count": 6,
   "id": "ef761ce7-1b3e-4903-bb9e-0c6b9488fd36",
   "metadata": {},
   "outputs": [
    {
     "name": "stdout",
     "output_type": "stream",
     "text": [
      "Starting experimental run with id: 2. \n"
     ]
    },
    {
     "data": {
      "text/plain": [
       "([<Axes: title={'center': 'Run #2, Experiment Keithley_2450_example (no sample)'}, xlabel='voltage (mV)', ylabel='current (pA)'>],\n",
       " [None])"
      ]
     },
     "execution_count": 6,
     "metadata": {},
     "output_type": "execute_result"
    },
    {
     "data": {
      "image/png": "[encoded data removed]",
      "text/plain": [
       "<Figure size 640x480 with 1 Axes>"
      ]
     },
     "metadata": {},
     "output_type": "display_data"
    }
   ],
   "source": [
    "meas = Measurement(exp=experiment)\n",
    "meas.register_parameter(keithley.sense.sweep)\n",
    "\n",
    "with meas.run() as datasaver:\n",
    "    datasaver.add_result((keithley.source.sweep_axis, keithley.source.sweep_axis()),\n",
    "                         (keithley.sense.sweep, keithley.sense.sweep()))\n",
    "\n",
    "    dataid = datasaver.run_id\n",
    "\n",
    "plot_dataset(datasaver.dataset)"
   ]
  }
 ],
 "metadata": {
  "kernelspec": {
   "display_name": "Python3 (qcodes)",
   "language": "python",
   "name": "condaenv"
  },
  "language_info": {
   "codemirror_mode": {
    "name": "ipython",
    "version": 3
   },
   "file_extension": ".py",
   "mimetype": "text/x-python",
   "name": "python",
   "nbconvert_exporter": "python",
   "pygments_lexer": "ipython3",
   "version": "3.12.4"
  }
 },
 "nbformat": 4,
 "nbformat_minor": 5
}
