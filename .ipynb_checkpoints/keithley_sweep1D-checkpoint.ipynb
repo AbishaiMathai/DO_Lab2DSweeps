{
 "cells": [
  {
   "cell_type": "markdown",
   "id": "9c5f383b-dbf6-42f6-9369-a69d40afe0d6",
   "metadata": {},
   "source": [
    "# Sweep 1D\n",
    "\n",
    "A straightforward setup for doing 1D sweeps. It would be ideal to abstract this to any driver (as opposed to only our k2450) in the future.\n",
    "\n",
    "The code is organized this way so as to enable integration of this into LabVIEW. I will need to investigate how exactly LabVIEW handles the running of python code since documentation online is somewhat poor and seems to indicate that we can ONLY call functions. This is the reason I have structured the code as such."
   ]
  },
  {
   "cell_type": "code",
   "execution_count": 1,
   "id": "23a1e8c5-9e67-4178-b3fa-069d2e8cc314",
   "metadata": {},
   "outputs": [],
   "source": [
    "class Sweep1D:\n",
    "    \"\"\"1D sweeps using a Keithley 2450\n",
    "\n",
    "    Attributes:\n",
    "        address (str): the VISA device address, looks something like USB0::1510::9296::04584899::0::INSTR\n",
    "        sense (str): the value to be read during the sweep, for example: \"current\", \"voltage\"\n",
    "        source (str): the value to be controlled during the sweep, for example: \"current\", \"voltage\"\n",
    "        start (float): startpoint for the sweep\n",
    "        stop: endpoint for the sweep\n",
    "        increment: step size for the sweep\n",
    "        database_name (str): name for the database\n",
    "        sample_name (str, optional): name for the sample \n",
    "        four_wire_mode (bool, optional): whether to enable 4-wire mode or not\n",
    "    \"\"\"\n",
    "    def __init__(self, address: str, sense: str, sense_range: float, source: str, source_range: float, start: float, stop: float, step: float, database_name: str, sample_name: str=\"no sample\", four_wire_mode: bool=False):\n",
    "        self.address = address\n",
    "        self.sense = sense\n",
    "        self.sense_range = sense_range\n",
    "        self.source = source\n",
    "        self.source_range = source_range\n",
    "        self.start = start\n",
    "        self.stop = stop\n",
    "        self.step = step\n",
    "        self.database_name = database_name\n",
    "        self.sample_name = sample_name\n",
    "        self.four_wire_mode = four_wire_mode\n",
    "\n",
    "    def _do_imports(self):\n",
    "        \"\"\"Imports necessary modules to perform a 1D sweep.\n",
    "\n",
    "        This method checks if the modules are already imported; if not, it imports them.\n",
    "        \"\"\"\n",
    "        global VisaIOError, Measurement, initialise_database, new_experiment, plot_dataset, Keithley2450\n",
    "\n",
    "        try:\n",
    "            import pyvisa\n",
    "            from pyvisa import VisaIOError\n",
    "        except ImportError:\n",
    "            raise ImportError(\"pyvisa module is required but not installed.\")\n",
    "        \n",
    "        try:\n",
    "            from qcodes.dataset import (\n",
    "                Measurement,\n",
    "                initialise_database,\n",
    "                new_experiment,\n",
    "                plot_dataset,\n",
    "                initialise_or_create_database_at,\n",
    "            )\n",
    "        except ImportError:\n",
    "            raise ImportError(\"qcodes.dataset module is required but not installed.\")\n",
    "        \n",
    "        try:\n",
    "            from qcodes.instrument_drivers.Keithley import Keithley2450\n",
    "        except ImportError:\n",
    "            raise ImportError(\"qcodes.instrument_drivers.Keithley module is required but not installed.\")\n",
    "\n",
    "    def run_sweep(self):\n",
    "        \"\"\"Initializes the sweep\n",
    "\n",
    "        This method performs the 1D sweep, initializing the database and the Keithley instrument.\n",
    "        \"\"\"\n",
    "        # Import necessary modules\n",
    "        self._do_imports()\n",
    "        \n",
    "        # Initialize the database\n",
    "        initialise_database()\n",
    "        experiment = new_experiment(name=self.database_name, sample_name=self.sample_name)\n",
    "        \n",
    "        # Initialize the instrument\n",
    "        keithley = Keithley2450(\"Keithley\", address=self.address)\n",
    "        \n",
    "        # Configure the instrument\n",
    "        keithley.sense.function(self.sense)\n",
    "        keithley.sense.range(self.sense_range)\n",
    "        keithley.sense.four_wire_measurement(self.four_wire_mode)\n",
    "\n",
    "        keithley.source.function(self.source)\n",
    "        keithley.source.range(self.source_range)\n",
    "        keithley.source.sweep_setup(self.start, self.step, self.stop)\n",
    "        \n",
    "        # Perform the measurement\n",
    "        meas = Measurement(exp=experiment)\n",
    "        meas.register_parameter(keithley.sense.sweep)\n",
    "\n",
    "        with meas.run() as datasaver:\n",
    "            datasaver.add_result((keithley.source.sweep_axis, keithley.source.sweep_axis()),\n",
    "                                 (keithley.sense.sweep, keithley.sense.sweep()))\n",
    "\n",
    "            dataid = datasaver.run_id\n",
    "\n",
    "        # Plot the dataset\n",
    "        plot_dataset(datasaver.dataset)\n"
   ]
  },
  {
   "cell_type": "code",
   "execution_count": 2,
   "id": "f19e119c-dfec-4c8a-9c4c-3e2d4d03e7c6",
   "metadata": {},
   "outputs": [],
   "source": [
    "demo = Sweep1D(\n",
    "    address=\"USB0::1510::9296::04584899::0::INSTR\",\n",
    "    sense=\"current\",\n",
    "    sense_range=1E-5,\n",
    "    source=\"voltage\",\n",
    "    source_range=0.2,\n",
    "    start=0,\n",
    "    stop=10,\n",
    "    step=0.1,\n",
    "    database_name=\"Keithley_2450_example\"\n",
    ")"
   ]
  },
  {
   "cell_type": "code",
   "execution_count": 3,
   "id": "81c0b525-a1d9-4b67-8aa1-c9a9aaed4b0d",
   "metadata": {},
   "outputs": [
    {
     "name": "stderr",
     "output_type": "stream",
     "text": [
      "There is (are) already experiment(s) with the name of Keithley_2450_example and sample name of no sample in the database.\n"
     ]
    },
    {
     "name": "stdout",
     "output_type": "stream",
     "text": [
      "Connected to: KEITHLEY INSTRUMENTS 2450 (serial:04584899, firmware:1.7.12b) in 0.32s\n",
      "Starting experimental run with id: 1. \n"
     ]
    },
    {
     "data": {
      "image/png": "[encoded data removed]",
      "text/plain": [
       "<Figure size 640x480 with 1 Axes>"
      ]
     },
     "metadata": {},
     "output_type": "display_data"
    }
   ],
   "source": [
    "demo.run_sweep()"
   ]
  },
  {
   "cell_type": "code",
   "execution_count": null,
   "id": "f6ad85df-852e-4d87-9916-9e1b3d1b832f",
   "metadata": {},
   "outputs": [],
   "source": []
  }
 ],
 "metadata": {
  "kernelspec": {
   "display_name": "Python3 (qcodes)",
   "language": "python",
   "name": "condaenv"
  },
  "language_info": {
   "codemirror_mode": {
    "name": "ipython",
    "version": 3
   },
   "file_extension": ".py",
   "mimetype": "text/x-python",
   "name": "python",
   "nbconvert_exporter": "python",
   "pygments_lexer": "ipython3",
   "version": "3.12.4"
  }
 },
 "nbformat": 4,
 "nbformat_minor": 5
}
