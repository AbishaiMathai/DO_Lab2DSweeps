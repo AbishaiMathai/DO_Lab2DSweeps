{
 "cells": [
  {
   "cell_type": "markdown",
   "id": "137d362b-0601-4753-ab02-b3ecf7c16bb9",
   "metadata": {},
   "source": [
    "# (refactored) Sweep1D\n",
    "\n",
    "The LabVIEW-Python has a peculiar workflow as objects can be initialized and passed around between functions, however, ONLY FUNCTIONS can be called from within LabVIEW. For abstraction we initialize an keithleys and experiment (which under the hood have their own classes and special types) allowing us to manipulate them independently of the sweep function. Also, eventually this should allow us to replace the keithely object with a general source measurement object in case we want to use other devices.\n",
    "\n",
    "Within the LabVIEW graph (I assume) we will be able to instantiate and control each device independently of sweeps."
   ]
  },
  {
   "cell_type": "code",
   "execution_count": 1,
   "id": "ef1476d8-fc0c-4b2a-95cf-bf28266323c7",
   "metadata": {},
   "outputs": [],
   "source": [
    "def _do_imports():\n",
    "    \"\"\"Imports necessary modules to perform a 1D sweep.\n",
    "\n",
    "    This method checks if the modules are already imported; if not, it imports them.\n",
    "    \"\"\"\n",
    "    global VisaIOError, Measurement, initialise_database, new_experiment, plot_dataset, Keithley2450\n",
    "\n",
    "    try:\n",
    "        import pyvisa\n",
    "        from pyvisa import VisaIOError\n",
    "    except ImportError:\n",
    "        raise ImportError(\"pyvisa module is required but not installed.\")\n",
    "    \n",
    "    try:\n",
    "        from qcodes.dataset import (\n",
    "            Measurement,\n",
    "            initialise_database,\n",
    "            new_experiment,\n",
    "            plot_dataset,\n",
    "            initialise_or_create_database_at,\n",
    "        )\n",
    "    except ImportError:\n",
    "        raise ImportError(\"qcodes.dataset module is required but not installed.\")\n",
    "    \n",
    "    try:\n",
    "        from qcodes.instrument_drivers.Keithley import Keithley2450\n",
    "    except ImportError:\n",
    "        raise ImportError(\"qcodes.instrument_drivers.Keithley module is required but not installed.\")"
   ]
  },
  {
   "cell_type": "code",
   "execution_count": 2,
   "id": "8b62add3-498c-4e39-aee2-3c2fea443fb7",
   "metadata": {},
   "outputs": [],
   "source": [
    "def initialize_keithley(device_name: str, address: str, four_wire_mode: bool=False):\n",
    "    _do_imports()\n",
    "    keithley = Keithley2450(device_name, address)\n",
    "    keithley.reset()\n",
    "    keithley.sense.four_wire_measurement(four_wire_mode)\n",
    "    return keithley"
   ]
  },
  {
   "cell_type": "code",
   "execution_count": 3,
   "id": "cee02d5c-208a-4047-b9ce-47d3ca2b0043",
   "metadata": {},
   "outputs": [],
   "source": [
    "def initialize_experiment(database_name: str, sample_name: str=\"no sample\"):\n",
    "    _do_imports()\n",
    "    initialise_database()\n",
    "    experiment = new_experiment(name=database_name, sample_name=sample_name)\n",
    "    return experiment"
   ]
  },
  {
   "cell_type": "code",
   "execution_count": 13,
   "id": "c6fcf952-df0a-455c-add7-fd7b7a3d15ac",
   "metadata": {},
   "outputs": [],
   "source": [
    "def Sweep1D(\n",
    "    keithley,\n",
    "    experiment,\n",
    "    start: float,\n",
    "    stop: float,\n",
    "    step: float,\n",
    "    sense: str,\n",
    "    sense_range: float,\n",
    "    source: str,\n",
    "    source_range: float\n",
    "):\n",
    "    _do_imports()\n",
    "    # Configure the instrument\n",
    "    keithley.sense.function(sense)\n",
    "    keithley.sense.range(sense_range)\n",
    "    \n",
    "    keithley.source.function(source)\n",
    "    keithley.source.range(source_range)\n",
    "    keithley.source.sweep_setup(start, step, stop)\n",
    "    \n",
    "    # Perform the measurement\n",
    "    meas = Measurement(exp=experiment)\n",
    "    meas.register_parameter(keithley.sense.sweep)\n",
    "\n",
    "    with meas.run() as datasaver:\n",
    "        datasaver.add_result((keithley.source.sweep_axis, keithley.source.sweep_axis()),\n",
    "                             (keithley.sense.sweep, keithley.sense.sweep()))\n",
    "\n",
    "        dataid = datasaver.run_id\n",
    "\n",
    "    # Plot the dataset\n",
    "    plot_dataset(datasaver.dataset)"
   ]
  },
  {
   "cell_type": "code",
   "execution_count": 5,
   "id": "57140ea1-6683-4726-8611-453af41cf8d1",
   "metadata": {},
   "outputs": [
    {
     "name": "stderr",
     "output_type": "stream",
     "text": [
      "There is (are) already experiment(s) with the name of Keithley_2450_example and sample name of no sample in the database.\n"
     ]
    }
   ],
   "source": [
    "exp = initialize_experiment(\"Keithley_2450_example\")"
   ]
  },
  {
   "cell_type": "code",
   "execution_count": 6,
   "id": "4e0d0447-4afb-48b9-a6f3-92ea0a92b6d8",
   "metadata": {},
   "outputs": [
    {
     "name": "stdout",
     "output_type": "stream",
     "text": [
      "Connected to: KEITHLEY INSTRUMENTS 2450 (serial:04584899, firmware:1.7.12b) in 0.34s\n"
     ]
    }
   ],
   "source": [
    "keithley1 = initialize_keithley(\"Keithley1\", \"USB0::1510::9296::04584899::0::INSTR\")"
   ]
  },
  {
   "cell_type": "code",
   "execution_count": 9,
   "id": "5765b45b-5305-4425-bf03-a3c0ecde4734",
   "metadata": {},
   "outputs": [
    {
     "name": "stdout",
     "output_type": "stream",
     "text": [
      "Starting experimental run with id: 3. \n"
     ]
    },
    {
     "data": {
      "image/png": "[encoded data removed]",
      "text/plain": [
       "<Figure size 640x480 with 1 Axes>"
      ]
     },
     "metadata": {},
     "output_type": "display_data"
    }
   ],
   "source": [
    "Sweep1D(\n",
    "    keithley=keithley1, \n",
    "    experiment=exp,\n",
    "    start=0,\n",
    "    stop=10,\n",
    "    step=0.1,\n",
    "    sense=\"current\",\n",
    "    sense_range=1E-5,\n",
    "    source=\"voltage\",\n",
    "    source_range=0.2,\n",
    ")"
   ]
  },
  {
   "cell_type": "code",
   "execution_count": 10,
   "id": "23ce98c9-cb24-458f-b6f3-f125b013bd33",
   "metadata": {},
   "outputs": [
    {
     "data": {
      "text/plain": [
       "qcodes.instrument_drivers.Keithley.Keithley_2450.Keithley2450"
      ]
     },
     "execution_count": 10,
     "metadata": {},
     "output_type": "execute_result"
    }
   ],
   "source": [
    "type(keithley1)"
   ]
  },
  {
   "cell_type": "code",
   "execution_count": 11,
   "id": "44e4a4ae-8780-417a-ae87-efd2826da31f",
   "metadata": {},
   "outputs": [
    {
     "data": {
      "text/plain": [
       "qcodes.dataset.experiment_container.Experiment"
      ]
     },
     "execution_count": 11,
     "metadata": {},
     "output_type": "execute_result"
    }
   ],
   "source": [
    "type(exp)"
   ]
  }
 ],
 "metadata": {
  "kernelspec": {
   "display_name": "Python3 (qcodes)",
   "language": "python",
   "name": "condaenv"
  },
  "language_info": {
   "codemirror_mode": {
    "name": "ipython",
    "version": 3
   },
   "file_extension": ".py",
   "mimetype": "text/x-python",
   "name": "python",
   "nbconvert_exporter": "python",
   "pygments_lexer": "ipython3",
   "version": "3.12.4"
  }
 },
 "nbformat": 4,
 "nbformat_minor": 5
}
